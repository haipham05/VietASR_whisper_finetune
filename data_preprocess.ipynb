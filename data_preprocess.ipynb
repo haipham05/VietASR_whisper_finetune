{
 "cells": [
  {
   "cell_type": "code",
   "execution_count": 4,
   "id": "769dd987",
   "metadata": {},
   "outputs": [
    {
     "name": "stderr",
     "output_type": "stream",
     "text": [
      "c:\\Users\\longq\\anaconda3\\Lib\\site-packages\\paramiko\\pkey.py:82: CryptographyDeprecationWarning: TripleDES has been moved to cryptography.hazmat.decrepit.ciphers.algorithms.TripleDES and will be removed from this module in 48.0.0.\n",
      "  \"cipher\": algorithms.TripleDES,\n",
      "c:\\Users\\longq\\anaconda3\\Lib\\site-packages\\paramiko\\transport.py:219: CryptographyDeprecationWarning: Blowfish has been moved to cryptography.hazmat.decrepit.ciphers.algorithms.Blowfish and will be removed from this module in 45.0.0.\n",
      "  \"class\": algorithms.Blowfish,\n",
      "c:\\Users\\longq\\anaconda3\\Lib\\site-packages\\paramiko\\transport.py:243: CryptographyDeprecationWarning: TripleDES has been moved to cryptography.hazmat.decrepit.ciphers.algorithms.TripleDES and will be removed from this module in 48.0.0.\n",
      "  \"class\": algorithms.TripleDES,\n"
     ]
    },
    {
     "name": "stdout",
     "output_type": "stream",
     "text": [
      "Không thể convert thời gian: 6.93889e-17-7.70694\n",
      "Không thể convert thời gian: 9.28077e-16-10.3450\n"
     ]
    },
    {
     "name": "stderr",
     "output_type": "stream",
     "text": [
      "c:\\Users\\longq\\anaconda3\\Lib\\site-packages\\noisereduce\\spectralgate\\nonstationary.py:70: RuntimeWarning: invalid value encountered in divide\n",
      "  sig_mult_above_thresh = (abs_sig_stft - sig_stft_smooth) / sig_stft_smooth\n"
     ]
    },
    {
     "name": "stdout",
     "output_type": "stream",
     "text": [
      "                                                path  \\\n",
      "0  processed_audio\\FPTOpenSpeechData_Set001_V0.1_...   \n",
      "1  processed_audio\\FPTOpenSpeechData_Set001_V0.1_...   \n",
      "2  processed_audio\\FPTOpenSpeechData_Set001_V0.1_...   \n",
      "3  processed_audio\\FPTOpenSpeechData_Set001_V0.1_...   \n",
      "4  processed_audio\\FPTOpenSpeechData_Set001_V0.1_...   \n",
      "\n",
      "                                       transcription  start      end  \n",
      "0                                         cách để đi    0.0  1.27298  \n",
      "1  họ đã xét nghiệm máu cho cheng nhưng mọi thứ v...    0.0  3.79298  \n",
      "2                           anh có thể gọi tôi không    0.0  2.52098  \n",
      "3                  có rất nhiều yếu tố may rủi ở đây    0.0  3.43298  \n",
      "4                                 ai là chúa nói dối    0.0  3.93698  \n",
      "Đã lưu: fpt_train.csv (20735 mẫu), fpt_val.csv (2592 mẫu), fpt_test.csv (2592 mẫu)\n"
     ]
    }
   ],
   "source": [
    "import os\n",
    "import pandas as pd\n",
    "import re\n",
    "from sklearn.model_selection import train_test_split\n",
    "import librosa\n",
    "import numpy as np\n",
    "from noisereduce import reduce_noise\n",
    "import soundfile as sf\n",
    "\n",
    "\n",
    "data_dir = \"data\"\n",
    "audio_dir = os.path.join(data_dir, \"mp3\")\n",
    "transcript_file = os.path.join(data_dir, \"transcriptAll.txt\")\n",
    "output_dir = \"processed_audio\"\n",
    "os.makedirs(output_dir, exist_ok=True)\n",
    "\n",
    "def normalize_text(text):\n",
    "    text = text.strip().lower()\n",
    "    text = re.sub(r'[^\\w\\sàáảãạăắằẵẳặâầấậẫẩđèéẹẻẽêềếểễệìíịỉĩòóọỏõôồốổỗộơờớởỡợùúụủũưừứửữựỳýỵỷỹ]', '', text)\n",
    "    text = re.sub(r'\\s+', ' ', text)\n",
    "    return text\n",
    "\n",
    "# Hàm chuẩn hóa âm lượng (RMS normalization)\n",
    "def iznormale_volume(audio, target_rms=0.1):\n",
    "    rms = np.sqrt(np.mean(audio**2))\n",
    "    if rms > 0:  # Tránh chia cho 0\n",
    "        normalized_audio = audio * (target_rms / rms)\n",
    "    else:\n",
    "        normalized_audio = audio\n",
    "    return normalized_audio\n",
    "\n",
    "def reduce_noise_audio(audio, sr):\n",
    "    return reduce_noise(y=audio, sr=sr)\n",
    "\n",
    "# Hàm xử lý file âm thanh (normalize + noise reduction)\n",
    "def process_audio(input_path, output_path, sr=16000):\n",
    "    try:\n",
    "        audio, _ = librosa.load(input_path, sr=sr)\n",
    "        # Áp dụng noise reduction\n",
    "        audio = reduce_noise_audio(audio, sr)\n",
    "        # Áp dụng volume normalization\n",
    "        audio = normalize_volume(audio)\n",
    "        sf.write(output_path, audio, sr)\n",
    "        return True\n",
    "    except Exception as e:\n",
    "        print(f\"Lỗi xử lý {input_path}: {e}\")\n",
    "        return False\n",
    "\n",
    "entries = []\n",
    "with open(transcript_file, \"r\", encoding=\"utf-8\") as f:\n",
    "    for line in f:\n",
    "        parts = line.strip().split(\"|\")\n",
    "        if len(parts) == 3:\n",
    "            filename, transcript, time_range = parts\n",
    "            audio_path = os.path.join(audio_dir, filename)\n",
    "            if os.path.exists(audio_path):\n",
    "                time_parts = re.split(r\"[-\\s]+\", time_range.strip())\n",
    "                if len(time_parts) >= 2:\n",
    "                    try:\n",
    "                        start = float(time_parts[0])\n",
    "                        end = float(time_parts[1])\n",
    "                        output_audio_path = os.path.join(output_dir, filename.replace('.mp3', '.wav'))\n",
    "                        if process_audio(audio_path, output_audio_path):\n",
    "                            entries.append({\n",
    "                                \"path\": output_audio_path,\n",
    "                                \"transcription\": normalize_text(transcript),\n",
    "                                \"start\": start,\n",
    "                                \"end\": end\n",
    "                            })\n",
    "                    except ValueError:\n",
    "                        print(f\"Không thể convert thời gian: {time_range}\")\n",
    "                else:\n",
    "                    print(f\"Không đủ start/end: {time_range}\")\n",
    "        else:\n",
    "            print(f\"Dòng lỗi định dạng: {line.strip()}\")\n",
    "\n",
    "df = pd.DataFrame(entries)\n",
    "print(df.head())\n",
    "\n",
    "df_train, df_temp = train_test_split(df, test_size=0.2, random_state=42)\n",
    "df_val, df_test = train_test_split(df_temp, test_size=0.5, random_state=42)\n",
    "\n",
    "df_train.to_csv(\"fpt_train.csv\", index=False, encoding=\"utf-8\")\n",
    "df_val.to_csv(\"fpt_val.csv\", index=False, encoding=\"utf-8\")\n",
    "df_test.to_csv(\"fpt_test.csv\", index=False, encoding=\"utf-8\")\n",
    "\n",
    "print(f\"Đã lưu: fpt_train.csv ({len(df_train)} mẫu), fpt_val.csv ({len(df_val)} mẫu), fpt_test.csv ({len(df_test)} mẫu)\")"
   ]
  },
  {
   "cell_type": "code",
   "execution_count": 5,
   "id": "36bb7a40",
   "metadata": {},
   "outputs": [
    {
     "name": "stdout",
     "output_type": "stream",
     "text": [
      "Sampling rate: 16000 Hz\n"
     ]
    }
   ],
   "source": [
    "import librosa\n",
    "\n",
    "audio_path = df[\"path\"].iloc[5]\n",
    "y, sr = librosa.load(audio_path, sr=None)  \n",
    "print(f\"Sampling rate: {sr} Hz\")\n"
   ]
  },
  {
   "cell_type": "code",
   "execution_count": null,
   "id": "bd292a87",
   "metadata": {},
   "outputs": [],
   "source": []
  }
 ],
 "metadata": {
  "kernelspec": {
   "display_name": "base",
   "language": "python",
   "name": "python3"
  },
  "language_info": {
   "codemirror_mode": {
    "name": "ipython",
    "version": 3
   },
   "file_extension": ".py",
   "mimetype": "text/x-python",
   "name": "python",
   "nbconvert_exporter": "python",
   "pygments_lexer": "ipython3",
   "version": "3.12.3"
  }
 },
 "nbformat": 4,
 "nbformat_minor": 5
}
